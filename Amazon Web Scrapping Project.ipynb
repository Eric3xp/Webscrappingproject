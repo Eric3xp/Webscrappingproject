{
 "cells": [
  {
   "cell_type": "code",
   "execution_count": 42,
   "id": "698c2fa2",
   "metadata": {},
   "outputs": [],
   "source": [
    "#importing libraries\n",
    "from bs4 import BeautifulSoup\n",
    "import requests\n",
    "import time\n",
    "import datetime\n",
    "\n",
    "import smtplib"
   ]
  },
  {
   "cell_type": "code",
   "execution_count": 136,
   "id": "d27923de",
   "metadata": {},
   "outputs": [
    {
     "name": "stdout",
     "output_type": "stream",
     "text": [
      "\n",
      "            Food Microbiology: Fundamentals and Frontiers (ASM Books)\n",
      "           \n",
      "$189.47\n",
      "Michael P. Doyle\n",
      "           \n",
      "\n",
      "\n",
      "             (Editor),\n",
      "\n",
      "            Fifth Edition\n",
      "           \n"
     ]
    }
   ],
   "source": [
    "# conneting to website\n",
    "\n",
    "url='https://www.amazon.com/Food-Microbiology-Fundamentals-Frontiers-Books/dp/1555819966/ref=sr_1_10?crid=1S1C1UK9CBBT1&keywords=food+microbiology+textbook&qid=1673434253&sprefix=food+microbiology+textbook%2Caps%2C503&sr=8-10'\n",
    "\n",
    "headers= {\"User-Agent\": \"Mozilla/5.0 (Windows NT 10.0; Win64; x64) AppleWebKit/537.36 (KHTML, like Gecko) Chrome/78.0.3904.108 Safari/537.36\", \"Accept-Encoding\":\"gzip, deflate\", \"Accept\":\"text/html,application/xhtml+xml,application/xml;q=0.9,*/*;q=0.8\", \"DNT\":\"1\",\"Connection\":\"close\", \"Upgrade-Insecure-Requests\":\"1\"}\n",
    "\n",
    "page = requests.get(url, headers=headers)\n",
    "\n",
    "soup1 = BeautifulSoup(page.content, \"html.parser\")\n",
    "\n",
    "soup2 = BeautifulSoup(soup1.prettify(), \"html.parser\")\n",
    "\n",
    "title = soup2.find(id='productTitle').get_text()\n",
    "edition = soup2.find(id='productSubtitle').get_text()\n",
    "editor= soup2.find('span', {'class':'author'}).text.strip() \n",
    "price = soup2.find('span', {'class':'a-offscreen'}).text.strip()\n",
    "\n",
    "print(title)\n",
    "print(price)\n",
    "print(editor)\n",
    "print(edition)"
   ]
  },
  {
   "cell_type": "code",
   "execution_count": 131,
   "id": "111df788",
   "metadata": {},
   "outputs": [
    {
     "name": "stdout",
     "output_type": "stream",
     "text": [
      "Food Microbiology: Fundamentals and Frontiers (ASM Books)\n",
      "189.47\n",
      "Michael P. Doyle\n",
      "Fifth Edition\n"
     ]
    }
   ],
   "source": [
    "#Cleaning the data\n",
    "price= price.strip()[1:]\n",
    "title= title.strip()\n",
    "editor= editor.strip()[:16]\n",
    "edition= edition.strip()\n",
    "\n",
    "print(title)\n",
    "print(price)\n",
    "print(editor)\n",
    "print(edition)\n"
   ]
  },
  {
   "cell_type": "code",
   "execution_count": 92,
   "id": "5694c7ba",
   "metadata": {},
   "outputs": [
    {
     "name": "stdout",
     "output_type": "stream",
     "text": [
      "2023-01-11\n"
     ]
    }
   ],
   "source": [
    "import datetime\n",
    "\n",
    "today= datetime.date.today()\n",
    "\n",
    "print(today)"
   ]
  },
  {
   "cell_type": "code",
   "execution_count": 134,
   "id": "a7bbc493",
   "metadata": {},
   "outputs": [],
   "source": [
    "import csv\n",
    "header= ['title', 'price','editor','edition', 'date']\n",
    "data=[title, price, editor, edition, today]\n",
    "\n",
    "\n",
    "with open('AmazonDataset.csv', 'w', newline='', encoding='UTF8') as f:\n",
    "    writer = csv.writer(f)\n",
    "    writer.writerow(header)\n",
    "    writer.writerow(data)\n",
    "    "
   ]
  },
  {
   "cell_type": "code",
   "execution_count": 135,
   "id": "ae270137",
   "metadata": {},
   "outputs": [
    {
     "name": "stdout",
     "output_type": "stream",
     "text": [
      "                                               title   price  \\\n",
      "0  Food Microbiology: Fundamentals and Frontiers ...  189.47   \n",
      "\n",
      "             editor        edition        date  \n",
      "0  Michael P. Doyle  Fifth Edition  2023-01-11  \n"
     ]
    }
   ],
   "source": [
    "import pandas as pd\n",
    "\n",
    "df= pd.read_csv(r'C:\\Users\\USER\\Downloads\\AmazonDataset.csv')\n",
    "\n",
    "print(df)"
   ]
  },
  {
   "cell_type": "code",
   "execution_count": null,
   "id": "058c6228",
   "metadata": {},
   "outputs": [],
   "source": [
    "#Appending data to the csv\n",
    "\n",
    "with open('AmazonDataset.csv', 'a+', newline='', encoding='UTF8') as f:\n",
    "    writer = csv.writer(f)\n",
    "    writer.writerow(data)"
   ]
  },
  {
   "cell_type": "code",
   "execution_count": null,
   "id": "7ef7723e",
   "metadata": {},
   "outputs": [],
   "source": [
    "#Combine all of the above code into one function\n",
    "\n",
    "def check_price():\n",
    "    url='https://www.amazon.com/Food-Microbiology-Fundamentals-Frontiers-Books/dp/1555819966/ref=sr_1_10?crid=1S1C1UK9CBBT1&keywords=food+microbiology+textbook&qid=1673434253&sprefix=food+microbiology+textbook%2Caps%2C503&sr=8-10'\n",
    "\n",
    "    headers= {\"User-Agent\": \"Mozilla/5.0 (Windows NT 10.0; Win64; x64) AppleWebKit/537.36 (KHTML, like Gecko) Chrome/78.0.3904.108 Safari/537.36\", \"Accept-Encoding\":\"gzip, deflate\", \"Accept\":\"text/html,application/xhtml+xml,application/xml;q=0.9,*/*;q=0.8\", \"DNT\":\"1\",\"Connection\":\"close\", \"Upgrade-Insecure-Requests\":\"1\"}\n",
    "\n",
    "    page = requests.get(url, headers=headers)\n",
    "\n",
    "    soup1 = BeautifulSoup(page.content, \"html.parser\")\n",
    "\n",
    "    soup2 = BeautifulSoup(soup1.prettify(), \"html.parser\")\n",
    "\n",
    "    title = soup2.find(id='productTitle').get_text()\n",
    "    edition = soup2.find(id='productSubtitle').get_text()\n",
    "    editor= soup2.find('span', {'class':'author'}).text.strip() \n",
    "    price = soup2.find('span', {'class':'a-offscreen'}).text.strip()\n",
    "\n",
    "    price= price.strip()[1:]\n",
    "    title= title.strip()\n",
    "    editor= editor.strip()[:16]\n",
    "    edition= edition.strip()\n",
    "\n",
    "    import datetime\n",
    "\n",
    "    today= datetime.date.today()\n",
    "\n",
    "    \n",
    "    import csv\n",
    "    header= ['title', 'price','editor','edition', 'date']\n",
    "    data=[title, price, editor, edition, today]\n",
    "\n",
    "    with open('AmazonDataset.csv', 'a+', newline='', encoding='UTF8') as f:\n",
    "        writer = csv.writer(f)\n",
    "        writer.writerow(data)\n",
    "        \n",
    "    if(price > 180):\n",
    "        send_mail()"
   ]
  },
  {
   "cell_type": "code",
   "execution_count": null,
   "id": "3c42c0ab",
   "metadata": {},
   "outputs": [],
   "source": [
    "# Runs check_price after a set time and inputs data into your CSV\n",
    "\n",
    "while(True):\n",
    "    check_price()\n",
    "    time.sleep(86400)"
   ]
  },
  {
   "cell_type": "code",
   "execution_count": null,
   "id": "adcb69e5",
   "metadata": {},
   "outputs": [],
   "source": [
    "# Sending myself an email when the  price hits below  $180\n",
    "\n",
    "def send_mail():\n",
    "    server = smtplib.SMTP_SSL('smtp.gmail.com',465)\n",
    "    server.ehlo()\n",
    "    #server.starttls()\n",
    "    server.ehlo()\n",
    "    server.login('chinoeric8@gmail.com','xxxxxxx')\n",
    "    \n",
    "    subject = \"The Book you want is below! Now is your chance to buy!\"\n",
    "    body = \"Eric, This is the moment we have been waiting for. Now is your chance to pick up the Book. Don't mess it up! Link here: https://www.amazon.com/Food-Microbiology-Fundamentals-Frontiers-Books/dp/1555819966/ref=sr_1_10?crid=1S1C1UK9CBBT1&keywords=food+microbiology+textbook&qid=1673434253&sprefix=food+microbiology+textbook%2Caps%2C503&sr=8-10\"\n",
    "   \n",
    "    msg = f\"Subject: {subject}\\n\\n{body}\"\n",
    "    \n",
    "    server.sendmail(\n",
    "        'chinoeric8@gmail.com',\n",
    "        msg\n",
    "     \n",
    "    )"
   ]
  },
  {
   "cell_type": "code",
   "execution_count": null,
   "id": "1202858f",
   "metadata": {},
   "outputs": [],
   "source": []
  }
 ],
 "metadata": {
  "kernelspec": {
   "display_name": "Python 3 (ipykernel)",
   "language": "python",
   "name": "python3"
  },
  "language_info": {
   "codemirror_mode": {
    "name": "ipython",
    "version": 3
   },
   "file_extension": ".py",
   "mimetype": "text/x-python",
   "name": "python",
   "nbconvert_exporter": "python",
   "pygments_lexer": "ipython3",
   "version": "3.9.13"
  }
 },
 "nbformat": 4,
 "nbformat_minor": 5
}
